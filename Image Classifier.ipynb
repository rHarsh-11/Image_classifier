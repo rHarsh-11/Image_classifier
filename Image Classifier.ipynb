{
 "cells": [
  {
   "cell_type": "code",
   "execution_count": 6,
   "id": "57320d2e",
   "metadata": {},
   "outputs": [],
   "source": [
    "#Importing the libraries and dataset\n",
    "from tensorflow.keras.datasets import fashion_mnist\n",
    "import numpy as np"
   ]
  },
  {
   "cell_type": "code",
   "execution_count": 9,
   "id": "32229e85",
   "metadata": {},
   "outputs": [
    {
     "name": "stdout",
     "output_type": "stream",
     "text": [
      "Training data shape: (60000, 28, 28)\n",
      "Training label shape: (60000,)\n",
      "Testing data shape: (10000, 28, 28)\n",
      "Testing label shape: (10000,)\n"
     ]
    }
   ],
   "source": [
    "#Load the MNIST dataset\n",
    "\n",
    "(X_train,y_train), (X_test,y_test) = fashion_mnist.load_data()\n",
    "\n",
    "#Display the shape\n",
    "print(\"Training data shape:\",X_train.shape)\n",
    "print(\"Training label shape:\",y_train.shape)\n",
    "print(\"Testing data shape:\",X_test.shape)\n",
    "print(\"Testing label shape:\",y_test.shape)"
   ]
  },
  {
   "cell_type": "code",
   "execution_count": 12,
   "id": "ca883893",
   "metadata": {},
   "outputs": [
    {
     "data": {
      "image/png": "[encoded data removed]",
      "text/plain": [
       "<Figure size 1440x216 with 10 Axes>"
      ]
     },
     "metadata": {
      "needs_background": "light"
     },
     "output_type": "display_data"
    }
   ],
   "source": [
    "#Visualizing the initial dataset\n",
    "\n",
    "import matplotlib.pyplot as plt\n",
    "\n",
    "#Function to plot images\n",
    "def plot_initial_images(images, labels, class_names):\n",
    "    fig,axes = plt.subplots(1,10, figsize=(20,3))\n",
    "    for i in range(10):\n",
    "        ax = axes[i]\n",
    "        ax.imshow(images[i], cmap='gray')\n",
    "        ax.set_title(class_names[labels[i]])\n",
    "        ax.axis('off')\n",
    "    plt.show()\n",
    "    \n",
    "#Class names\n",
    "class_names = ['T-Shirt/top','Trouser','Pullover','Dress','Coat',\n",
    "              'Sandal','Shirt','Sneaker','Bag','Ankle boot']\n",
    "\n",
    "#Plot some initial images with their labels\n",
    "plot_initial_images(X_train,y_train,class_names)"
   ]
  },
  {
   "cell_type": "code",
   "execution_count": 13,
   "id": "9428869a",
   "metadata": {},
   "outputs": [
    {
     "name": "stdout",
     "output_type": "stream",
     "text": [
      "Processed training data shape: (60000, 28, 28, 1)\n",
      "Processed test data shape: (10000, 28, 28, 1)\n"
     ]
    }
   ],
   "source": [
    "#Normalize the pixel_values\n",
    "X_train = X_train / 255.0\n",
    "X_test = X_test / 255.0\n",
    "\n",
    "#Reshape the images to add a channel dimension\n",
    "X_train = X_train.reshape(X_train.shape[0],28,28,1)\n",
    "X_test = X_test.reshape(X_test.shape[0],28,28,1)\n",
    "\n",
    "#Display the shape of the processed images\n",
    "print('Processed training data shape:',X_train.shape)\n",
    "print('Processed test data shape:',X_test.shape)"
   ]
  },
  {
   "cell_type": "code",
   "execution_count": 14,
   "id": "f52f75c6",
   "metadata": {},
   "outputs": [
    {
     "name": "stderr",
     "output_type": "stream",
     "text": [
      "C:\\Users\\HARSH RANA\\AppData\\Local\\Temp\\ipykernel_1684\\3693302223.py:9: FutureWarning: `multichannel` is a deprecated argument name for `hog`. It will be removed in version 1.0. Please use `channel_axis` instead.\n",
      "  features = hog(image, pixels_per_cell=(4, 4), cells_per_block=(2, 2), visualize=False, multichannel=True)\n"
     ]
    },
    {
     "name": "stdout",
     "output_type": "stream",
     "text": [
      "HOG features training data shape: (60000, 1296)\n",
      "HOG features testing data shape: (10000, 1296)\n"
     ]
    }
   ],
   "source": [
    "#Extracting features\n",
    "import cv2\n",
    "from skimage.feature import hog\n",
    "\n",
    "def extract_hog_features(images):\n",
    "    hog_features = []\n",
    "    for image in images:\n",
    "        # Extract HOG features\n",
    "        features = hog(image, pixels_per_cell=(4, 4), cells_per_block=(2, 2), visualize=False, multichannel=True)\n",
    "        hog_features.append(features)\n",
    "    return np.array(hog_features)\n",
    "\n",
    "# Extract HOG features from the training and testing images\n",
    "X_train_hog = extract_hog_features(X_train)\n",
    "X_test_hog = extract_hog_features(X_test)\n",
    "\n",
    "# Display the shape of the HOG features\n",
    "print(f\"HOG features training data shape: {X_train_hog.shape}\")\n",
    "print(f\"HOG features testing data shape: {X_test_hog.shape}\")"
   ]
  },
  {
   "cell_type": "code",
   "execution_count": null,
   "id": "31bf74e3",
   "metadata": {},
   "outputs": [],
   "source": [
    "#Training the classifier\n",
    "from sklearn.svm import SVC\n",
    "\n",
    "# Create an SVM classifier\n",
    "svm = SVC(kernel='linear')\n",
    "\n",
    "# Train the classifier\n",
    "svm.fit(X_train_hog, y_train)\n",
    "\n",
    "# Display the training accuracy\n",
    "train_accuracy = svm.score(X_train_hog, y_train)\n",
    "print(f\"Training accuracy: {train_accuracy * 100:.2f}%\")"
   ]
  },
  {
   "cell_type": "code",
   "execution_count": null,
   "id": "f11c53aa",
   "metadata": {},
   "outputs": [],
   "source": [
    "#Evaluating the model\n",
    "# Evaluate the model on the testing set\n",
    "test_accuracy = svm.score(X_test_hog, y_test)\n",
    "print(f\"Testing accuracy: {test_accuracy * 100:.2f}%\")"
   ]
  },
  {
   "cell_type": "code",
   "execution_count": null,
   "id": "74eebcbc",
   "metadata": {},
   "outputs": [],
   "source": [
    "# Get predictions on the test set\n",
    "y_pred = svm.predict(X_test_hog)\n",
    "\n",
    "# Function to plot images with true and predicted labels\n",
    "def plot_output_images(images, true_labels, predicted_labels, class_names):\n",
    "    fig, axes = plt.subplots(1, 10, figsize=(20, 3))\n",
    "    for i in range(10):\n",
    "        ax = axes[i]\n",
    "        ax.imshow(images[i].reshape(28, 28), cmap='gray')\n",
    "        ax.set_title(f\"True: {class_names[true_labels[i]]}\\nPred: {class_names[predicted_labels[i]]}\", fontsize=10)\n",
    "        ax.axis('off')\n",
    "    plt.tight_layout()\n",
    "    plt.show()\n",
    "\n",
    "\n",
    "# Plot some test images along with their true and predicted labels\n",
    "plot_output_images(X_test[:10], y_test[:10], y_pred[:10], class_names)"
   ]
  }
 ],
 "metadata": {
  "kernelspec": {
   "display_name": "Python 3 (ipykernel)",
   "language": "python",
   "name": "python3"
  },
  "language_info": {
   "codemirror_mode": {
    "name": "ipython",
    "version": 3
   },
   "file_extension": ".py",
   "mimetype": "text/x-python",
   "name": "python",
   "nbconvert_exporter": "python",
   "pygments_lexer": "ipython3",
   "version": "3.9.12"
  }
 },
 "nbformat": 4,
 "nbformat_minor": 5
}
